{
 "cells": [
  {
   "cell_type": "code",
   "execution_count": 1,
   "metadata": {
    "collapsed": true
   },
   "outputs": [],
   "source": [
    "from PIL import Image,ImageDraw\n",
    "import random\n",
    "import pandas as pd\n",
    "import tensorflow as tf\n",
    "import glob\n",
    "import numpy as np\n",
    "from math import pi\n",
    "import matplotlib.pyplot as plt\n",
    "%matplotlib inline\n",
    "path_train = './rectangles/train/'\n",
    "#генерируем обучающую выборку путем вращения прямоугольника по/против часовой стрелки\n",
    "img = Image.new('L', (128, 128), \"white\") #создание изображения 128*128\n",
    "lineDrawer = ImageDraw.Draw(img)\n",
    "lineDrawer.rectangle((15,118,113,10))  #изображение прямоугольника \n",
    "img.save(path_train + \"img.png\", 'PNG')"
   ]
  },
  {
   "cell_type": "code",
   "execution_count": 522,
   "metadata": {
    "collapsed": true
   },
   "outputs": [],
   "source": [
    "path_train = './rectangles/train/'\n",
    "for filename in glob.glob(path_train + '*.png'): \n",
    "    img=Image.open(filename)"
   ]
  },
  {
   "cell_type": "code",
   "execution_count": 523,
   "metadata": {
    "collapsed": true
   },
   "outputs": [],
   "source": [
    "#масштабирование\n",
    "img = np.array(img)\n",
    "img = np.expand_dims(img, -1)\n",
    "img = np.asarray(img)/255.\n",
    "img = np.expand_dims(img, 0)"
   ]
  },
  {
   "cell_type": "code",
   "execution_count": 527,
   "metadata": {},
   "outputs": [],
   "source": [
    "#функция поворота входного изображения\n",
    "def rotate_images(X_imgs, start_angle, end_angle, n_images):\n",
    "    X_rotate = []\n",
    "    angles = []\n",
    "    iterate_at = (end_angle - start_angle) / (n_images - 1)\n",
    "    \n",
    "    X = tf.placeholder(tf.float32, shape = (None, 128, 128, 1))\n",
    "    radian = tf.placeholder(tf.float32, shape = (len(X_imgs)))\n",
    "    tf_img = tf.contrib.image.rotate(X, radian)\n",
    "    with tf.Session() as sess:\n",
    "        sess.run(tf.global_variables_initializer())\n",
    "    \n",
    "        for index in range(n_images):\n",
    "            degrees_angle = start_angle + index * iterate_at\n",
    "            angles.append(int(degrees_angle))\n",
    "            angles_arr = [degrees_angle] * len(X_imgs)\n",
    "            rotated_imgs = sess.run(tf_img, feed_dict = {X: X_imgs, radian: angles_arr})\n",
    "            X_rotate.extend(rotated_imgs)\n",
    "\n",
    "    X_rotate = np.array(X_rotate, dtype = np.float32)\n",
    "    return X_rotate, angles"
   ]
  },
  {
   "cell_type": "code",
   "execution_count": 557,
   "metadata": {},
   "outputs": [
    {
     "data": {
      "text/plain": [
       "<matplotlib.image.AxesImage at 0x19739bf98>"
      ]
     },
     "execution_count": 557,
     "metadata": {},
     "output_type": "execute_result"
    },
    {
     "data": {
      "image/png": "[encoded data removed]",
      "text/plain": [
       "<matplotlib.figure.Figure at 0x189ec9e48>"
      ]
     },
     "metadata": {},
     "output_type": "display_data"
    }
   ],
   "source": [
    "a = random.randint(0,90)\n",
    "b = random.randint(0,90)\n",
    "rotated_imgs = rotate_images(img, a, b, 10)\n",
    "plt.imshow(rotated_imgs[0][0].reshape(128,128))"
   ]
  },
  {
   "cell_type": "code",
   "execution_count": 602,
   "metadata": {},
   "outputs": [],
   "source": [
    "X = tf.placeholder(tf.float32, shape=[None,128,128,1])\n",
    "Y = tf.placeholder(tf.float32, shape=[None,90])\n",
    "#слои свертки и пулинга\n",
    "conv1 = tf.layers.conv2d(inputs=X, filters=8, kernel_size=[2,2], padding=\"same\", activation=tf.nn.relu)\n",
    "pool1 = tf.layers.max_pooling2d(inputs=conv1, pool_size=[2, 2], strides=2)\n",
    "conv2 = tf.layers.conv2d(inputs=pool1,filters=4,kernel_size=[2,2],padding=\"same\",activation=tf.nn.relu)\n",
    "pool2 = tf.layers.max_pooling2d(inputs=conv2, pool_size=[2, 2], strides=2)\n",
    "\n",
    "#полносвязный слой\n",
    "flattened = tf.contrib.layers.flatten(pool2)\n",
    "\n",
    "w1 = tf.Variable(tf.random_normal(shape=[4096, 90])) \n",
    "b1 = tf.Variable(tf.zeros(shape = [90]))\n",
    "out =  tf.nn.softmax(tf.add(tf.matmul(flattened,w1),b1))\n",
    "\n",
    "cross_entropy = tf.reduce_mean(-tf.reduce_sum(Y * tf.log(out), reduction_indices=[1]))\n",
    "train_step = tf.train.AdamOptimizer(1e-4).minimize(cross_entropy)"
   ]
  },
  {
   "cell_type": "code",
   "execution_count": 603,
   "metadata": {
    "collapsed": true
   },
   "outputs": [],
   "source": [
    "correct_prediction = tf.equal(tf.argmax(out, 1), tf.argmax(Y, 1))\n",
    "accuracy = tf.reduce_mean(tf.cast(correct_prediction, tf.float32))"
   ]
  },
  {
   "cell_type": "code",
   "execution_count": 580,
   "metadata": {},
   "outputs": [
    {
     "data": {
      "text/plain": [
       "<tf.Tensor 'Flatten_43/Reshape:0' shape=(?, 4096) dtype=float32>"
      ]
     },
     "execution_count": 580,
     "metadata": {},
     "output_type": "execute_result"
    }
   ],
   "source": [
    "flattened #размер вектора"
   ]
  },
  {
   "cell_type": "code",
   "execution_count": 608,
   "metadata": {
    "collapsed": true
   },
   "outputs": [],
   "source": [
    "height = 128\n",
    "width = 128\n",
    "training_epochs = 500"
   ]
  },
  {
   "cell_type": "code",
   "execution_count": 609,
   "metadata": {},
   "outputs": [
    {
     "name": "stdout",
     "output_type": "stream",
     "text": [
      "step 0, training accuracy 0, loss= 21.248\n",
      "step 10, training accuracy 0, loss= 20.9718\n",
      "step 20, training accuracy 0, loss= 20.45\n",
      "step 30, training accuracy 0, loss= 19.2311\n",
      "step 40, training accuracy 0.05, loss= 17.0898\n",
      "step 50, training accuracy 0, loss= 19.9381\n",
      "step 60, training accuracy 0.05, loss= 16.2816\n",
      "step 70, training accuracy 0, loss= 14.7684\n",
      "step 80, training accuracy 0, loss= 12.463\n",
      "step 90, training accuracy 0, loss= 15.624\n",
      "step 100, training accuracy 0, loss= 13.1912\n",
      "step 110, training accuracy 0, loss= 12.9897\n",
      "step 120, training accuracy 0, loss= 15.844\n",
      "step 130, training accuracy 0, loss= 8.18393\n",
      "step 140, training accuracy 0, loss= 10.4959\n",
      "step 150, training accuracy 0, loss= 13.1394\n",
      "step 160, training accuracy 0, loss= 10.5447\n",
      "step 170, training accuracy 0, loss= 7.71624\n",
      "step 180, training accuracy 0.05, loss= 11.4418\n",
      "step 190, training accuracy 0, loss= 9.46069\n",
      "step 200, training accuracy 0, loss= 11.0296\n",
      "step 210, training accuracy 0.05, loss= 9.78768\n",
      "step 220, training accuracy 0.05, loss= 7.26662\n",
      "step 230, training accuracy 0.05, loss= 9.89727\n",
      "step 240, training accuracy 0.05, loss= 6.99068\n",
      "step 250, training accuracy 0, loss= 8.32171\n",
      "step 260, training accuracy 0, loss= 7.32964\n",
      "step 270, training accuracy 0, loss= 10.0469\n",
      "step 280, training accuracy 0.05, loss= 7.06481\n",
      "step 290, training accuracy 0, loss= 8.18111\n",
      "step 300, training accuracy 0, loss= 8.52809\n",
      "step 310, training accuracy 0, loss= 7.70206\n",
      "step 320, training accuracy 0, loss= 8.78519\n",
      "step 330, training accuracy 0.05, loss= 7.57603\n",
      "step 340, training accuracy 0, loss= 6.58303\n",
      "step 350, training accuracy 0.05, loss= 7.39561\n",
      "step 360, training accuracy 0, loss= 7.16757\n",
      "step 370, training accuracy 0, loss= 6.61097\n",
      "step 380, training accuracy 0, loss= 7.33103\n",
      "step 390, training accuracy 0, loss= 6.21938\n",
      "step 400, training accuracy 0, loss= 7.45973\n",
      "step 410, training accuracy 0, loss= 6.3585\n",
      "step 420, training accuracy 0, loss= 5.69437\n",
      "step 430, training accuracy 0, loss= 6.57222\n",
      "step 440, training accuracy 0, loss= 6.60017\n",
      "step 450, training accuracy 0, loss= 7.62609\n",
      "step 460, training accuracy 0, loss= 7.16666\n",
      "step 470, training accuracy 0.05, loss= 6.15278\n",
      "step 480, training accuracy 0, loss= 5.63023\n",
      "step 490, training accuracy 0, loss= 9.87786\n",
      "Optimization Finished!\n"
     ]
    }
   ],
   "source": [
    "#Инициализация\n",
    "init = tf.global_variables_initializer()\n",
    "#Обучение\n",
    "display_step = 1\n",
    "sss = tf.Session()\n",
    "sss.run(init)\n",
    "\n",
    "for epoch in range(training_epochs):\n",
    "    a = random.randint(0,90)\n",
    "    b = random.randint(0,90)\n",
    "    rotated_imgs = rotate_images(img, a, b, 20)\n",
    "    rotated_values = np.array(rotated_imgs[1]).astype(int)\n",
    "    rotated_values = sss.run(tf.one_hot(rotated_values, 90))\n",
    "    if epoch % 10 == 0:\n",
    "        rotated_imgs = rotate_images(img, a, b, 20)\n",
    "        rotated_values = np.array(rotated_imgs[1]).astype(int)\n",
    "        rotated_values = sss.run(tf.one_hot(rotated_values, 90))\n",
    "        train_accuracy = sss.run(accuracy ,feed_dict={X: rotated_imgs[0], Y:rotated_values})\n",
    "        loss = sss.run(cross_entropy, {X: rotated_imgs[0], Y: rotated_values})\n",
    "        print('step %d, training accuracy %g, loss= %g' % (epoch, train_accuracy, loss))\n",
    "        \n",
    "    sss.run(train_step, feed_dict={X: rotated_imgs[0], Y: rotated_values})\n",
    "\n",
    "print(\"Optimization Finished!\")"
   ]
  },
  {
   "cell_type": "code",
   "execution_count": 610,
   "metadata": {},
   "outputs": [
    {
     "name": "stdout",
     "output_type": "stream",
     "text": [
      "[78 78 78 77 78 78 78 78 37 42] [15, 16, 18, 19, 21, 22, 24, 25, 27, 29]\n"
     ]
    }
   ],
   "source": [
    "#Тест по 10 повернутым изображениям\n",
    "a = random.randint(0,90)\n",
    "b = random.randint(0,90)\n",
    "rotated_imgs = rotate_images(img, a, b, 10)\n",
    "res = sss.run(out, feed_dict={X: rotated_imgs[0]})\n",
    "print(sss.run(tf.argmax(res,1)),rotated_imgs[1])"
   ]
  }
 ],
 "metadata": {
  "anaconda-cloud": {},
  "kernelspec": {
   "display_name": "Python [default]",
   "language": "python",
   "name": "python3"
  },
  "language_info": {
   "codemirror_mode": {
    "name": "ipython",
    "version": 3
   },
   "file_extension": ".py",
   "mimetype": "text/x-python",
   "name": "python",
   "nbconvert_exporter": "python",
   "pygments_lexer": "ipython3",
   "version": "3.5.2"
  }
 },
 "nbformat": 4,
 "nbformat_minor": 2
}
