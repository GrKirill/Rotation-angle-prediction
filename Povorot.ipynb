{
 "cells": [
  {
   "cell_type": "code",
   "execution_count": 1795,
   "metadata": {
    "collapsed": true
   },
   "outputs": [],
   "source": [
    "from PIL import Image,ImageDraw\n",
    "import random\n",
    "import pandas as pd\n",
    "import tensorflow as tf\n",
    "import glob\n",
    "import numpy as np\n",
    "from math import pi\n",
    "import random\n",
    "import matplotlib.pyplot as plt\n",
    "%matplotlib inline"
   ]
  },
  {
   "cell_type": "markdown",
   "metadata": {},
   "source": [
    "### Dataset generator"
   ]
  },
  {
   "cell_type": "code",
   "execution_count": 1793,
   "metadata": {
    "collapsed": true
   },
   "outputs": [],
   "source": [
    "def draw_rectangle(draw, coordinates, color, width=1):\n",
    "    for i in range(width):\n",
    "        rect_start = (coordinates[0][0] - i, coordinates[0][1] - i)\n",
    "        rect_end = (coordinates[1][0] + i, coordinates[1][1] + i)\n",
    "        draw.rectangle((rect_start, rect_end), outline = color)"
   ]
  },
  {
   "cell_type": "code",
   "execution_count": 1759,
   "metadata": {},
   "outputs": [],
   "source": [
    "def dataset_generator(imgs_num):\n",
    "    rotated_images = []\n",
    "    angles = []\n",
    "    for _ in range(imgs_num):\n",
    "        rectag_num = random.randint(1,10)\n",
    "        random_angle = random.uniform(-10,10)\n",
    "        img = Image.new('RGB', (128, 128), \"white\") #создание изображения 128*128\n",
    "        lineDrawer = ImageDraw.Draw(img)\n",
    "        drawing = ImageDraw.Draw(img)\n",
    "        for _ in range(rectag_num):\n",
    "            width = random.randint(1,5)\n",
    "            x = random.uniform(0.1,1)*128\n",
    "            y = random.uniform(0.1,1)*128\n",
    "            #lineDrawer.rectangle(((x,y),(random.uniform(0,x-0.1*128),random.uniform(0,y-0.1*128))), outline = \"black\")\n",
    "            drawing = ImageDraw.Draw(img)\n",
    "            draw_rectangle(drawing,((x,y),(random.uniform(0.1*128,x-0.1*128),random.uniform(0.1*128,y-0.1*128))), color = \"black\",width=width)\n",
    "        \n",
    "        im2 = img.convert('RGBA')\n",
    "        rotated = im2.rotate(random_angle, resample=Image.BICUBIC)\n",
    "        fff = Image.new('RGBA', rotated.size)\n",
    "        out = Image.composite(rotated, fff, rotated)\n",
    "        out.convert('RGB')#img.mode\n",
    "        rotated_images.append(out)\n",
    "        angles.append(random_angle)\n",
    "    yield  rotated_images,angles\n",
    "        "
   ]
  },
  {
   "cell_type": "code",
   "execution_count": 1937,
   "metadata": {},
   "outputs": [],
   "source": [
    "for (x,y) in dataset_generator(10000):\n",
    "    x_train = x\n",
    "    y_train = y"
   ]
  },
  {
   "cell_type": "code",
   "execution_count": 1933,
   "metadata": {},
   "outputs": [
    {
     "data": {
      "image/png": "[encoded data removed]",
      "text/plain": [
       "<PIL.Image.Image image mode=RGBA size=128x128 at 0x1E4980898>"
      ]
     },
     "execution_count": 1933,
     "metadata": {},
     "output_type": "execute_result"
    }
   ],
   "source": [
    "x_train[9]"
   ]
  },
  {
   "cell_type": "code",
   "execution_count": 1938,
   "metadata": {},
   "outputs": [],
   "source": [
    "train_array = []\n",
    "for el in x_train:\n",
    "    train_array.append(np.asarray(el))\n",
    "train_array = np.asarray(train_array)/255.\n",
    "y_train = np.asarray(y_train)\n",
    "y_train = y_train.reshape(10000,1)"
   ]
  },
  {
   "cell_type": "code",
   "execution_count": 1939,
   "metadata": {},
   "outputs": [
    {
     "name": "stdout",
     "output_type": "stream",
     "text": [
      "(10000, 128, 128, 4)\n",
      "(10000, 1)\n"
     ]
    }
   ],
   "source": [
    "print(train_array.shape)\n",
    "print(y_train.shape)"
   ]
  },
  {
   "cell_type": "code",
   "execution_count": 1940,
   "metadata": {},
   "outputs": [],
   "source": [
    "X = tf.placeholder(tf.float32, shape=[None,128,128,4])\n",
    "Y = tf.placeholder(tf.float32, shape=[None,1])\n",
    "\n",
    "#слои свертки и пулинга\n",
    "conv1 = tf.layers.conv2d(inputs=X, filters=8, kernel_size=[2,2], padding=\"same\", activation=tf.nn.relu)\n",
    "pool1 = tf.layers.max_pooling2d(inputs=conv1, pool_size=[2, 2], strides=2)\n",
    "conv2 = tf.layers.conv2d(inputs=pool1,filters=4,kernel_size=[2,2],padding=\"same\",activation=tf.nn.relu)\n",
    "pool2 = tf.layers.max_pooling2d(inputs=conv2, pool_size=[2, 2], strides=2)\n",
    "\n",
    "#полносвязный слой\n",
    "flattened = tf.contrib.layers.flatten(pool2)\n",
    "\n",
    "w1 = tf.Variable(tf.random_normal(shape=[4096,1])) \n",
    "b1 = tf.Variable(tf.zeros(shape = [1]))\n",
    "out = tf.add(tf.matmul(flattened,w1),b1)\n",
    "\n",
    "#loss = tf.reduce_sum(tf.pow(out - Y, 2))/2*20\n",
    "loss = tf.losses.mean_squared_error(labels=Y, predictions=out)\n",
    "train_step = tf.train.AdamOptimizer(0.001).minimize(loss)#tf.train.GradientDescentOptimizer "
   ]
  },
  {
   "cell_type": "code",
   "execution_count": 1941,
   "metadata": {},
   "outputs": [
    {
     "data": {
      "text/plain": [
       "<tf.Tensor 'Flatten_76/Reshape:0' shape=(?, 4096) dtype=float32>"
      ]
     },
     "execution_count": 1941,
     "metadata": {},
     "output_type": "execute_result"
    }
   ],
   "source": [
    "flattened #размер вектора"
   ]
  },
  {
   "cell_type": "code",
   "execution_count": 1962,
   "metadata": {
    "collapsed": true
   },
   "outputs": [],
   "source": [
    "training_epochs = 100000"
   ]
  },
  {
   "cell_type": "code",
   "execution_count": 1963,
   "metadata": {},
   "outputs": [
    {
     "name": "stdout",
     "output_type": "stream",
     "text": [
      "71.1731\n",
      "0.00922785\n",
      "0.0354189\n",
      "0.0116758\n",
      "0.00942143\n",
      "0.013025\n",
      "0.0146598\n",
      "0.0150779\n",
      "0.00964413\n",
      "0.0125911\n",
      "Optimization Finished!\n"
     ]
    }
   ],
   "source": [
    "#Инициализация\n",
    "init = tf.global_variables_initializer()\n",
    "#Обучение\n",
    "sss = tf.Session()\n",
    "sss.run(init)\n",
    "\n",
    "for epoch in range(training_epochs):\n",
    "    permutation=np.random.permutation(10000)\n",
    "    permutation=permutation[0:20]\n",
    "    batch=[train_array[permutation], y_train[permutation]]\n",
    "    if epoch % 10000 == 0:\n",
    "        #print(sss.run(w1, feed_dict={X:batch[0], Y: batch[1]}))\n",
    "        print(sss.run(loss, feed_dict={X:batch[0], Y: batch[1]}))\n",
    "        \n",
    "    sss.run(train_step, feed_dict={X:batch[0], Y: batch[1]})\n",
    "\n",
    "print(\"Optimization Finished!\")"
   ]
  },
  {
   "cell_type": "markdown",
   "metadata": {},
   "source": [
    "# TEST"
   ]
  },
  {
   "cell_type": "code",
   "execution_count": 1966,
   "metadata": {
    "collapsed": true
   },
   "outputs": [],
   "source": [
    "for (l,m) in dataset_generator(10):\n",
    "    x_test = l\n",
    "    y_test= m"
   ]
  },
  {
   "cell_type": "code",
   "execution_count": 1967,
   "metadata": {},
   "outputs": [],
   "source": [
    "test_array = []\n",
    "for el in x_test:\n",
    "    test_array.append(np.asarray(el))\n",
    "test_array = np.asarray(test_array)/255.\n",
    "y_test = np.asarray(y_test)\n",
    "y_test = y_test.reshape(10,1)"
   ]
  },
  {
   "cell_type": "code",
   "execution_count": 1968,
   "metadata": {},
   "outputs": [
    {
     "name": "stdout",
     "output_type": "stream",
     "text": [
      "[-7.3822875] [-7.46408077]\n",
      "[ 3.94711781] [ 3.98439007]\n",
      "[ 2.98931503] [ 3.03014516]\n",
      "[-7.38166761] [-7.48834131]\n",
      "[-7.36028004] [-7.41090688]\n",
      "[ 8.92495251] [ 8.90838898]\n",
      "[-2.12053275] [-2.19303047]\n",
      "[-8.28981018] [-8.40237399]\n",
      "[-5.80239296] [-5.84124736]\n",
      "[ 0.43863463] [ 0.33312717]\n"
     ]
    }
   ],
   "source": [
    "for i,k in enumerate(sss.run(out, feed_dict={X:test_array})):\n",
    "    print(k, y_test[i])"
   ]
  },
  {
   "cell_type": "code",
   "execution_count": null,
   "metadata": {},
   "outputs": [],
   "source": []
  },
  {
   "cell_type": "code",
   "execution_count": null,
   "metadata": {
    "collapsed": true
   },
   "outputs": [],
   "source": []
  }
 ],
 "metadata": {
  "anaconda-cloud": {},
  "kernelspec": {
   "display_name": "Python [default]",
   "language": "python",
   "name": "python3"
  },
  "language_info": {
   "codemirror_mode": {
    "name": "ipython",
    "version": 3
   },
   "file_extension": ".py",
   "mimetype": "text/x-python",
   "name": "python",
   "nbconvert_exporter": "python",
   "pygments_lexer": "ipython3",
   "version": "3.5.2"
  }
 },
 "nbformat": 4,
 "nbformat_minor": 2
}
