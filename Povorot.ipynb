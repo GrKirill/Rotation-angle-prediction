{
 "cells": [
  {
   "cell_type": "code",
   "execution_count": 1795,
   "metadata": {
    "collapsed": true
   },
   "outputs": [],
   "source": [
    "from PIL import Image,ImageDraw\n",
    "import random\n",
    "import pandas as pd\n",
    "import tensorflow as tf\n",
    "import glob\n",
    "import numpy as np\n",
    "from math import pi\n",
    "import random\n",
    "import matplotlib.pyplot as plt\n",
    "%matplotlib inline\n",
    "img = Image.new('RGB', (128, 128), \"white\") #создание изображения 128*128\n",
    "lineDrawer = ImageDraw.Draw(img)"
   ]
  },
  {
   "cell_type": "markdown",
   "metadata": {},
   "source": [
    "### Dataset generator"
   ]
  },
  {
   "cell_type": "code",
   "execution_count": 1793,
   "metadata": {
    "collapsed": true
   },
   "outputs": [],
   "source": [
    "def draw_rectangle(draw, coordinates, color, width=1):\n",
    "    for i in range(width):\n",
    "        rect_start = (coordinates[0][0] - i, coordinates[0][1] - i)\n",
    "        rect_end = (coordinates[1][0] + i, coordinates[1][1] + i)\n",
    "        draw.rectangle((rect_start, rect_end), outline = color)"
   ]
  },
  {
   "cell_type": "code",
   "execution_count": 1759,
   "metadata": {},
   "outputs": [],
   "source": [
    "def dataset_generator(imgs_num):\n",
    "    rotated_images = []\n",
    "    angles = []\n",
    "    for _ in range(imgs_num):\n",
    "        rectag_num = random.randint(1,10)\n",
    "        random_angle = random.uniform(-10,10)\n",
    "        img = Image.new('RGB', (128, 128), \"white\") #создание изображения 128*128\n",
    "        lineDrawer = ImageDraw.Draw(img)\n",
    "        drawing = ImageDraw.Draw(img)\n",
    "        for _ in range(rectag_num):\n",
    "            width = random.randint(1,5)\n",
    "            x = random.uniform(0.1,1)*128\n",
    "            y = random.uniform(0.1,1)*128\n",
    "            #lineDrawer.rectangle(((x,y),(random.uniform(0,x-0.1*128),random.uniform(0,y-0.1*128))), outline = \"black\")\n",
    "            drawing = ImageDraw.Draw(img)\n",
    "            draw_rectangle(drawing,((x,y),(random.uniform(0.1*128,x-0.1*128),random.uniform(0.1*128,y-0.1*128))), color = \"black\",width=width)\n",
    "        \n",
    "        im2 = img.convert('RGBA')\n",
    "        rotated = im2.rotate(random_angle, resample=Image.BICUBIC)\n",
    "        fff = Image.new('RGBA', rotated.size)\n",
    "        out = Image.composite(rotated, fff, rotated)\n",
    "        out.convert('RGB')#img.mode\n",
    "        rotated_images.append(out)\n",
    "        angles.append(random_angle)\n",
    "    yield  rotated_images,angles\n",
    "        "
   ]
  },
  {
   "cell_type": "code",
   "execution_count": 1908,
   "metadata": {},
   "outputs": [],
   "source": [
    "for (x,y) in dataset_generator(100):\n",
    "    x_train = x\n",
    "    y_train = y"
   ]
  },
  {
   "cell_type": "code",
   "execution_count": 1909,
   "metadata": {},
   "outputs": [
    {
     "data": {
      "image/png": "[encoded data removed]",
      "text/plain": [
       "<PIL.Image.Image image mode=RGBA size=128x128 at 0x201614A58>"
      ]
     },
     "execution_count": 1909,
     "metadata": {},
     "output_type": "execute_result"
    }
   ],
   "source": [
    "x_train[9]"
   ]
  },
  {
   "cell_type": "code",
   "execution_count": 1910,
   "metadata": {},
   "outputs": [],
   "source": [
    "train_array = []\n",
    "for el in x_train:\n",
    "    train_array.append(np.asarray(el))\n",
    "train_array = np.asarray(train_array)/255.\n",
    "y_train = np.asarray(y_train)"
   ]
  },
  {
   "cell_type": "code",
   "execution_count": 1912,
   "metadata": {},
   "outputs": [
    {
     "name": "stdout",
     "output_type": "stream",
     "text": [
      "(100, 128, 128, 4)\n",
      "(100,)\n"
     ]
    }
   ],
   "source": [
    "print(train_array.shape)\n",
    "print(y_train.shape)"
   ]
  },
  {
   "cell_type": "code",
   "execution_count": 1923,
   "metadata": {
    "collapsed": true
   },
   "outputs": [],
   "source": [
    "y_train = y_train.reshape(100,1)"
   ]
  },
  {
   "cell_type": "code",
   "execution_count": 1778,
   "metadata": {
    "collapsed": true
   },
   "outputs": [],
   "source": [
    "#масштабирование\n",
    "#img = np.expand_dims(img, -1)\n",
    "#img = np.expand_dims(img, 0)"
   ]
  },
  {
   "cell_type": "code",
   "execution_count": 1927,
   "metadata": {},
   "outputs": [],
   "source": [
    "X = tf.placeholder(tf.float32, shape=[None,128,128,4])\n",
    "Y = tf.placeholder(tf.float32, shape=[None,1])\n",
    "\n",
    "#слои свертки и пулинга\n",
    "conv1 = tf.layers.conv2d(inputs=X, filters=8, kernel_size=[2,2], padding=\"same\", activation=tf.nn.relu)\n",
    "pool1 = tf.layers.max_pooling2d(inputs=conv1, pool_size=[2, 2], strides=2)\n",
    "conv2 = tf.layers.conv2d(inputs=pool1,filters=4,kernel_size=[2,2],padding=\"same\",activation=tf.nn.relu)\n",
    "pool2 = tf.layers.max_pooling2d(inputs=conv2, pool_size=[2, 2], strides=2)\n",
    "\n",
    "#полносвязный слой\n",
    "flattened = tf.contrib.layers.flatten(pool2)\n",
    "\n",
    "w1 = tf.Variable(tf.random_normal(shape=[4096,1])) \n",
    "b1 = tf.Variable(tf.zeros(shape = [1]))\n",
    "out = tf.add(tf.matmul(flattened,w1),b1)\n",
    "\n",
    "#loss = tf.reduce_sum(tf.pow(out - Y, 2))/2*20\n",
    "loss = tf.losses.mean_squared_error(labels=Y, predictions=out)\n",
    "train_step = tf.train.AdamOptimizer(0.001).minimize(loss)#tf.train.GradientDescentOptimizer "
   ]
  },
  {
   "cell_type": "code",
   "execution_count": 1914,
   "metadata": {},
   "outputs": [
    {
     "data": {
      "text/plain": [
       "<tf.Tensor 'Flatten_71/Reshape:0' shape=(?, 4096) dtype=float32>"
      ]
     },
     "execution_count": 1914,
     "metadata": {},
     "output_type": "execute_result"
    }
   ],
   "source": [
    "flattened #размер вектора"
   ]
  },
  {
   "cell_type": "code",
   "execution_count": 1928,
   "metadata": {
    "collapsed": true
   },
   "outputs": [],
   "source": [
    "training_epochs = 10000"
   ]
  },
  {
   "cell_type": "code",
   "execution_count": 1929,
   "metadata": {},
   "outputs": [
    {
     "name": "stdout",
     "output_type": "stream",
     "text": [
      "400.187\n",
      "23.8753\n",
      "9.08032\n",
      "4.14745\n",
      "2.85024\n",
      "2.28766\n",
      "1.84478\n",
      "1.33727\n",
      "0.916896\n",
      "0.674992\n",
      "1.01368\n",
      "1.22845\n",
      "0.832172\n",
      "0.360804\n",
      "0.202385\n",
      "0.449659\n",
      "0.249857\n",
      "0.349615\n",
      "0.0829867\n",
      "0.139945\n",
      "0.204992\n",
      "0.188588\n",
      "0.0840396\n",
      "0.043094\n",
      "0.0753635\n",
      "0.09094\n",
      "0.046141\n",
      "0.031751\n",
      "0.0487515\n",
      "0.0929877\n",
      "0.0276443\n",
      "0.0107829\n",
      "0.0133992\n",
      "0.0220387\n",
      "0.029925\n",
      "0.00736955\n",
      "0.0132867\n",
      "0.00815203\n",
      "0.00499792\n",
      "0.00951417\n",
      "0.00765693\n",
      "0.022993\n",
      "0.00224889\n",
      "0.00530263\n",
      "0.00262256\n",
      "0.00114883\n",
      "0.00171781\n",
      "0.00364289\n",
      "0.00205478\n",
      "0.00464926\n",
      "0.00234556\n",
      "0.00283125\n",
      "0.00108247\n",
      "0.00226501\n",
      "0.00615036\n",
      "0.00100197\n",
      "0.00082839\n",
      "0.00123402\n",
      "0.0020985\n",
      "0.00214928\n",
      "0.0134238\n",
      "0.000782392\n",
      "0.00142385\n",
      "0.00352906\n",
      "0.000687073\n",
      "0.0158545\n",
      "0.00211581\n",
      "0.000744044\n",
      "0.0695445\n",
      "0.00511275\n",
      "0.00652034\n",
      "0.000460627\n",
      "0.000136989\n",
      "0.0015281\n",
      "5.79082e-05\n",
      "0.000662299\n",
      "0.00252202\n",
      "0.00147075\n",
      "0.00737634\n",
      "0.00950631\n",
      "0.000144507\n",
      "5.7481e-05\n",
      "6.08953e-05\n",
      "0.00217383\n",
      "0.00152817\n",
      "0.000489444\n",
      "0.00381802\n",
      "0.000104601\n",
      "1.80446e-05\n",
      "0.00966549\n",
      "0.000976228\n",
      "0.00105499\n",
      "0.000330717\n",
      "0.00174428\n",
      "0.000680758\n",
      "0.0572187\n",
      "0.00372248\n",
      "0.00653729\n",
      "0.000611553\n",
      "0.000238355\n",
      "Optimization Finished!\n"
     ]
    }
   ],
   "source": [
    "#Инициализация\n",
    "init = tf.global_variables_initializer()\n",
    "#Обучение\n",
    "sss = tf.Session()\n",
    "sss.run(init)\n",
    "\n",
    "for epoch in range(training_epochs):\n",
    "    permutation=np.random.permutation(100)\n",
    "    permutation=permutation[0:20]\n",
    "    batch=[train_array[permutation], y_train[permutation]]\n",
    "    if epoch % 100 == 0:\n",
    "        #print(sss.run(w1, feed_dict={X:batch[0], Y: batch[1]}))\n",
    "        print(sss.run(loss, feed_dict={X:batch[0], Y: batch[1]}))\n",
    "        \n",
    "    sss.run(train_step, feed_dict={X:batch[0], Y: batch[1]})\n",
    "\n",
    "print(\"Optimization Finished!\")"
   ]
  },
  {
   "cell_type": "code",
   "execution_count": 1930,
   "metadata": {},
   "outputs": [
    {
     "data": {
      "text/plain": [
       "array([[ 9.75762463],\n",
       "       [-3.83169127],\n",
       "       [-6.93432617],\n",
       "       [-1.12100935],\n",
       "       [-5.85959244],\n",
       "       [ 2.02687216],\n",
       "       [ 9.40680695],\n",
       "       [ 9.26224899],\n",
       "       [ 4.61781025],\n",
       "       [ 9.79728127],\n",
       "       [ 0.61176562],\n",
       "       [-9.46620941],\n",
       "       [-2.64182639],\n",
       "       [ 0.23532425],\n",
       "       [ 7.58903599],\n",
       "       [ 3.08585858],\n",
       "       [ 4.81422806],\n",
       "       [ 5.26797533],\n",
       "       [ 3.27368259],\n",
       "       [-2.65332627]], dtype=float32)"
      ]
     },
     "execution_count": 1930,
     "metadata": {},
     "output_type": "execute_result"
    }
   ],
   "source": [
    "sss.run(out, feed_dict={X:batch[0]})"
   ]
  },
  {
   "cell_type": "code",
   "execution_count": 1931,
   "metadata": {},
   "outputs": [
    {
     "data": {
      "text/plain": [
       "array([[ 9.75713425],\n",
       "       [-3.82878794],\n",
       "       [-6.93110702],\n",
       "       [-1.11930458],\n",
       "       [-5.85884041],\n",
       "       [ 2.03298651],\n",
       "       [ 9.410838  ],\n",
       "       [ 9.26704729],\n",
       "       [ 4.62179393],\n",
       "       [ 9.79489374],\n",
       "       [ 0.61131109],\n",
       "       [-9.4667896 ],\n",
       "       [-2.63934282],\n",
       "       [ 0.24314558],\n",
       "       [ 7.59726343],\n",
       "       [ 3.08757864],\n",
       "       [ 4.81537189],\n",
       "       [ 5.265783  ],\n",
       "       [ 3.27148975],\n",
       "       [-2.65177535]])"
      ]
     },
     "execution_count": 1931,
     "metadata": {},
     "output_type": "execute_result"
    }
   ],
   "source": [
    "batch[1]"
   ]
  },
  {
   "cell_type": "code",
   "execution_count": null,
   "metadata": {
    "collapsed": true
   },
   "outputs": [],
   "source": []
  }
 ],
 "metadata": {
  "anaconda-cloud": {},
  "kernelspec": {
   "display_name": "Python [default]",
   "language": "python",
   "name": "python3"
  },
  "language_info": {
   "codemirror_mode": {
    "name": "ipython",
    "version": 3
   },
   "file_extension": ".py",
   "mimetype": "text/x-python",
   "name": "python",
   "nbconvert_exporter": "python",
   "pygments_lexer": "ipython3",
   "version": "3.5.2"
  }
 },
 "nbformat": 4,
 "nbformat_minor": 2
}
